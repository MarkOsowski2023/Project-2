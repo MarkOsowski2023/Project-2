{
 "cells": [
  {
   "cell_type": "markdown",
   "metadata": {},
   "source": [
    "# Data ETL\n",
    "*******************************\n",
    "- transform and load Dataframes from 2 csv_files to tables in postgreSQL"
   ]
  },
  {
   "cell_type": "code",
   "execution_count": 1,
   "metadata": {},
   "outputs": [],
   "source": [
    "# Depends\n",
    "import pandas as pd\n",
    "import numpy as np\n",
    "from sqlalchemy import create_engine\n",
    "from config import psqlpass"
   ]
  },
  {
   "cell_type": "code",
   "execution_count": 2,
   "metadata": {},
   "outputs": [],
   "source": [
    "# pandas read csv\n",
    "teamPerformData = pd.read_csv('../Resources/DataEtl/seasonAttendanceData.csv')\n",
    "orgData = pd.read_csv('../Resources/scrape_collect/seasonPayrollData.csv')"
   ]
  },
  {
   "cell_type": "code",
   "execution_count": 3,
   "metadata": {},
   "outputs": [
    {
     "data": {
      "text/html": [
       "<div>\n",
       "<style scoped>\n",
       "    .dataframe tbody tr th:only-of-type {\n",
       "        vertical-align: middle;\n",
       "    }\n",
       "\n",
       "    .dataframe tbody tr th {\n",
       "        vertical-align: top;\n",
       "    }\n",
       "\n",
       "    .dataframe thead th {\n",
       "        text-align: right;\n",
       "    }\n",
       "</style>\n",
       "<table border=\"1\" class=\"dataframe\">\n",
       "  <thead>\n",
       "    <tr style=\"text-align: right;\">\n",
       "      <th></th>\n",
       "      <th>teamID</th>\n",
       "      <th>franchID</th>\n",
       "      <th>name</th>\n",
       "      <th>G</th>\n",
       "      <th>Ghome</th>\n",
       "      <th>yearID</th>\n",
       "      <th>Rank</th>\n",
       "      <th>W</th>\n",
       "      <th>L</th>\n",
       "      <th>park</th>\n",
       "      <th>attendance</th>\n",
       "      <th>HR</th>\n",
       "      <th>R</th>\n",
       "      <th>DivWin</th>\n",
       "      <th>WCWin</th>\n",
       "      <th>LgWin</th>\n",
       "      <th>WSWin</th>\n",
       "      <th>att_per_game</th>\n",
       "    </tr>\n",
       "  </thead>\n",
       "  <tbody>\n",
       "    <tr>\n",
       "      <th>0</th>\n",
       "      <td>ATL</td>\n",
       "      <td>ATL</td>\n",
       "      <td>Atlanta Braves</td>\n",
       "      <td>162</td>\n",
       "      <td>81</td>\n",
       "      <td>1990</td>\n",
       "      <td>6</td>\n",
       "      <td>65</td>\n",
       "      <td>97</td>\n",
       "      <td>Atlanta-Fulton County Stadium</td>\n",
       "      <td>980129</td>\n",
       "      <td>162</td>\n",
       "      <td>682</td>\n",
       "      <td>N</td>\n",
       "      <td>0</td>\n",
       "      <td>N</td>\n",
       "      <td>N</td>\n",
       "      <td>12100.358025</td>\n",
       "    </tr>\n",
       "    <tr>\n",
       "      <th>1</th>\n",
       "      <td>BAL</td>\n",
       "      <td>BAL</td>\n",
       "      <td>Baltimore Orioles</td>\n",
       "      <td>161</td>\n",
       "      <td>80</td>\n",
       "      <td>1990</td>\n",
       "      <td>5</td>\n",
       "      <td>76</td>\n",
       "      <td>85</td>\n",
       "      <td>Memorial Stadium</td>\n",
       "      <td>2415189</td>\n",
       "      <td>132</td>\n",
       "      <td>669</td>\n",
       "      <td>N</td>\n",
       "      <td>0</td>\n",
       "      <td>N</td>\n",
       "      <td>N</td>\n",
       "      <td>30189.862500</td>\n",
       "    </tr>\n",
       "    <tr>\n",
       "      <th>2</th>\n",
       "      <td>BOS</td>\n",
       "      <td>BOS</td>\n",
       "      <td>Boston Red Sox</td>\n",
       "      <td>162</td>\n",
       "      <td>81</td>\n",
       "      <td>1990</td>\n",
       "      <td>1</td>\n",
       "      <td>88</td>\n",
       "      <td>74</td>\n",
       "      <td>Fenway Park II</td>\n",
       "      <td>2528986</td>\n",
       "      <td>106</td>\n",
       "      <td>699</td>\n",
       "      <td>Y</td>\n",
       "      <td>0</td>\n",
       "      <td>N</td>\n",
       "      <td>N</td>\n",
       "      <td>31222.049383</td>\n",
       "    </tr>\n",
       "    <tr>\n",
       "      <th>3</th>\n",
       "      <td>CAL</td>\n",
       "      <td>ANA</td>\n",
       "      <td>California Angels</td>\n",
       "      <td>162</td>\n",
       "      <td>81</td>\n",
       "      <td>1990</td>\n",
       "      <td>4</td>\n",
       "      <td>80</td>\n",
       "      <td>82</td>\n",
       "      <td>Anaheim Stadium</td>\n",
       "      <td>2555688</td>\n",
       "      <td>147</td>\n",
       "      <td>690</td>\n",
       "      <td>N</td>\n",
       "      <td>0</td>\n",
       "      <td>N</td>\n",
       "      <td>N</td>\n",
       "      <td>31551.703704</td>\n",
       "    </tr>\n",
       "    <tr>\n",
       "      <th>4</th>\n",
       "      <td>CHA</td>\n",
       "      <td>CHW</td>\n",
       "      <td>Chicago White Sox</td>\n",
       "      <td>162</td>\n",
       "      <td>80</td>\n",
       "      <td>1990</td>\n",
       "      <td>2</td>\n",
       "      <td>94</td>\n",
       "      <td>68</td>\n",
       "      <td>Comiskey Park</td>\n",
       "      <td>2002357</td>\n",
       "      <td>106</td>\n",
       "      <td>682</td>\n",
       "      <td>N</td>\n",
       "      <td>0</td>\n",
       "      <td>N</td>\n",
       "      <td>N</td>\n",
       "      <td>25029.462500</td>\n",
       "    </tr>\n",
       "  </tbody>\n",
       "</table>\n",
       "</div>"
      ],
      "text/plain": [
       "  teamID franchID               name    G  Ghome  yearID  Rank   W   L  \\\n",
       "0    ATL      ATL     Atlanta Braves  162     81    1990     6  65  97   \n",
       "1    BAL      BAL  Baltimore Orioles  161     80    1990     5  76  85   \n",
       "2    BOS      BOS     Boston Red Sox  162     81    1990     1  88  74   \n",
       "3    CAL      ANA  California Angels  162     81    1990     4  80  82   \n",
       "4    CHA      CHW  Chicago White Sox  162     80    1990     2  94  68   \n",
       "\n",
       "                            park  attendance   HR    R DivWin WCWin LgWin  \\\n",
       "0  Atlanta-Fulton County Stadium      980129  162  682      N     0     N   \n",
       "1               Memorial Stadium     2415189  132  669      N     0     N   \n",
       "2                 Fenway Park II     2528986  106  699      Y     0     N   \n",
       "3                Anaheim Stadium     2555688  147  690      N     0     N   \n",
       "4                  Comiskey Park     2002357  106  682      N     0     N   \n",
       "\n",
       "  WSWin  att_per_game  \n",
       "0     N  12100.358025  \n",
       "1     N  30189.862500  \n",
       "2     N  31222.049383  \n",
       "3     N  31551.703704  \n",
       "4     N  25029.462500  "
      ]
     },
     "execution_count": 3,
     "metadata": {},
     "output_type": "execute_result"
    }
   ],
   "source": [
    "# column transformation\n",
    "teamPerformData.head()"
   ]
  },
  {
   "cell_type": "code",
   "execution_count": 4,
   "metadata": {},
   "outputs": [
    {
     "name": "stdout",
     "output_type": "stream",
     "text": [
      "Index(['teamID', 'franchID', 'name', 'G', 'Ghome', 'yearID', 'Rank', 'W', 'L',\n",
      "       'park', 'attendance', 'HR', 'R', 'DivWin', 'WCWin', 'LgWin', 'WSWin',\n",
      "       'att_per_game'],\n",
      "      dtype='object')\n"
     ]
    }
   ],
   "source": [
    "# change column names\n",
    "print(teamPerformData.columns)"
   ]
  },
  {
   "cell_type": "code",
   "execution_count": 5,
   "metadata": {},
   "outputs": [
    {
     "data": {
      "text/plain": [
       "Index(['team_abbrv', 'franchise_abbrv', 'team_name', 'games_played',\n",
       "       'home_games_played', 'season', 'season_rank', 'wins', 'losses',\n",
       "       'home_park', 'attendance', 'home_runs', 'runs_scored',\n",
       "       'division_winner', 'wild_card_winner', 'league_winner',\n",
       "       'world_series_winner', 'att_per_game'],\n",
       "      dtype='object')"
      ]
     },
     "execution_count": 5,
     "metadata": {},
     "output_type": "execute_result"
    }
   ],
   "source": [
    "teamPerformData.rename(columns={\n",
    "    'yearID': 'season',\n",
    "    'teamID': 'team_abbrv',\n",
    "    'franchID': 'franchise_abbrv',\n",
    "    'name': 'team_name',\n",
    "    'G': 'games_played',\n",
    "    'Ghome': 'home_games_played',\n",
    "    'Rank': 'season_rank',\n",
    "    'W': 'wins',\n",
    "    'L': 'losses',\n",
    "    'park': 'home_park',\n",
    "    'HR': 'home_runs',\n",
    "    'R': 'runs_scored',\n",
    "    'DivWin': 'division_winner',\n",
    "    'WCWin': 'wild_card_winner',\n",
    "    'LgWin': 'league_winner',\n",
    "    'WSWin': 'world_series_winner',\n",
    "}, inplace=True)\n",
    "\n",
    "teamPerformData.columns"
   ]
  },
  {
   "cell_type": "code",
   "execution_count": 6,
   "metadata": {},
   "outputs": [
    {
     "name": "stdout",
     "output_type": "stream",
     "text": [
      "-------------------------------------------------------------------------------------------\n",
      "Unique Seasons: [1990 1991 1992 1993 1994 1995 1996 1997 1998 1999 2000 2001 2002 2003\n",
      " 2004 2005 2006 2007 2008 2009 2010 2011 2012 2013 2014 2015 2016 2017\n",
      " 2018 2019 2021]\n",
      "-------------------------------------------------------------------------------------------\n",
      "Unique team names: ['Atlanta Braves' 'Baltimore Orioles' 'Boston Red Sox' 'California Angels'\n",
      " 'Chicago White Sox' 'Chicago Cubs' 'Cincinnati Reds' 'Cleveland Indians'\n",
      " 'Detroit Tigers' 'Houston Astros' 'Kansas City Royals'\n",
      " 'Los Angeles Dodgers' 'Minnesota Twins' 'Milwaukee Brewers'\n",
      " 'Montreal Expos' 'New York Yankees' 'New York Mets' 'Oakland Athletics'\n",
      " 'Philadelphia Phillies' 'Pittsburgh Pirates' 'San Diego Padres'\n",
      " 'Seattle Mariners' 'San Francisco Giants' 'St. Louis Cardinals'\n",
      " 'Texas Rangers' 'Toronto Blue Jays' 'Colorado Rockies' 'Florida Marlins'\n",
      " 'Anaheim Angels' 'Arizona Diamondbacks' 'Tampa Bay Devil Rays'\n",
      " 'Los Angeles Angels of Anaheim' 'Washington Nationals' 'Tampa Bay Rays'\n",
      " 'Miami Marlins']\n",
      "-------------------------------------------------------------------------------------------\n",
      "Unique team abbrvs: ['ATL' 'BAL' 'BOS' 'CAL' 'CHA' 'CHN' 'CIN' 'CLE' 'DET' 'HOU' 'KCA' 'LAN'\n",
      " 'MIN' 'ML4' 'MON' 'NYA' 'NYN' 'OAK' 'PHI' 'PIT' 'SDN' 'SEA' 'SFN' 'SLN'\n",
      " 'TEX' 'TOR' 'COL' 'FLO' 'ANA' 'ARI' 'MIL' 'TBA' 'LAA' 'WAS' 'MIA']\n",
      "-------------------------------------------------------------------------------------------\n",
      "Unique franchise abbrvs: ['ATL' 'BAL' 'BOS' 'ANA' 'CHW' 'CHC' 'CIN' 'CLE' 'DET' 'HOU' 'KCR' 'LAD'\n",
      " 'MIN' 'MIL' 'WSN' 'NYY' 'NYM' 'OAK' 'PHI' 'PIT' 'SDP' 'SEA' 'SFG' 'STL'\n",
      " 'TEX' 'TOR' 'COL' 'FLA' 'ARI' 'TBD']\n",
      "-------------------------------------------------------------------------------------------\n"
     ]
    }
   ],
   "source": [
    "# Checking UNIQUE VALUES FOR team name, team abbrv, season, franchise Abbrv\n",
    "print('-------------------------------------------------------------------------------------------')\n",
    "print(f'Unique Seasons: {(teamPerformData.season.unique())}')\n",
    "print('-------------------------------------------------------------------------------------------')\n",
    "print(f'Unique team names: {(teamPerformData.team_name.unique())}')\n",
    "print('-------------------------------------------------------------------------------------------')\n",
    "print(f'Unique team abbrvs: {(teamPerformData.team_abbrv.unique())}')\n",
    "print('-------------------------------------------------------------------------------------------')\n",
    "print(f'Unique franchise abbrvs: {(teamPerformData.franchise_abbrv.unique())}')\n",
    "print('-------------------------------------------------------------------------------------------')\n"
   ]
  },
  {
   "cell_type": "code",
   "execution_count": 7,
   "metadata": {},
   "outputs": [],
   "source": [
    "uniqueSeasons = teamPerformData.season.unique()\n",
    "seasonsdf = pd.DataFrame(uniqueSeasons, columns=['season'])\n",
    "seasonsdf['season'] = seasonsdf['season'].astype('string')\n",
    "# to csv\n",
    "seasonsdf.to_csv('output/seasons.csv', encoding='utf-8', index=False)"
   ]
  },
  {
   "cell_type": "code",
   "execution_count": 8,
   "metadata": {},
   "outputs": [
    {
     "name": "stdout",
     "output_type": "stream",
     "text": [
      "<class 'pandas.core.frame.DataFrame'>\n",
      "RangeIndex: 31 entries, 0 to 30\n",
      "Data columns (total 1 columns):\n",
      " #   Column  Non-Null Count  Dtype \n",
      "---  ------  --------------  ----- \n",
      " 0   season  31 non-null     string\n",
      "dtypes: string(1)\n",
      "memory usage: 376.0 bytes\n"
     ]
    }
   ],
   "source": [
    "seasonsdf.info()"
   ]
  },
  {
   "cell_type": "code",
   "execution_count": 9,
   "metadata": {},
   "outputs": [],
   "source": [
    "uniqueTeams = teamPerformData.team_name.unique()\n",
    "teamDf = pd.DataFrame(uniqueTeams, columns=['team'])\n",
    "# to csv\n",
    "teamDf.to_csv('output/teams.csv', encoding='utf-8', index=False)"
   ]
  },
  {
   "cell_type": "code",
   "execution_count": 10,
   "metadata": {},
   "outputs": [
    {
     "name": "stdout",
     "output_type": "stream",
     "text": [
      "<class 'pandas.core.frame.DataFrame'>\n",
      "RangeIndex: 35 entries, 0 to 34\n",
      "Data columns (total 1 columns):\n",
      " #   Column  Non-Null Count  Dtype \n",
      "---  ------  --------------  ----- \n",
      " 0   team    35 non-null     object\n",
      "dtypes: object(1)\n",
      "memory usage: 408.0+ bytes\n"
     ]
    }
   ],
   "source": [
    "teamDf.info()"
   ]
  },
  {
   "cell_type": "code",
   "execution_count": 11,
   "metadata": {},
   "outputs": [
    {
     "name": "stdout",
     "output_type": "stream",
     "text": [
      "<class 'pandas.core.frame.DataFrame'>\n",
      "RangeIndex: 30 entries, 0 to 29\n",
      "Data columns (total 1 columns):\n",
      " #   Column     Non-Null Count  Dtype \n",
      "---  ------     --------------  ----- \n",
      " 0   franchise  30 non-null     object\n",
      "dtypes: object(1)\n",
      "memory usage: 368.0+ bytes\n"
     ]
    }
   ],
   "source": [
    "uniqueFranchise = teamPerformData.franchise_abbrv.unique()\n",
    "franchiseDF = pd.DataFrame(uniqueFranchise, columns=['franchise'])\n",
    "franchiseDF.info()"
   ]
  },
  {
   "cell_type": "code",
   "execution_count": 12,
   "metadata": {},
   "outputs": [],
   "source": [
    "franchiseDF.to_csv('output/franchise.csv', encoding='utf-8', index=False)"
   ]
  },
  {
   "cell_type": "code",
   "execution_count": 13,
   "metadata": {},
   "outputs": [
    {
     "name": "stdout",
     "output_type": "stream",
     "text": [
      "<class 'pandas.core.frame.DataFrame'>\n",
      "RangeIndex: 35 entries, 0 to 34\n",
      "Data columns (total 1 columns):\n",
      " #   Column     Non-Null Count  Dtype \n",
      "---  ------     --------------  ----- \n",
      " 0   teamAbbrv  35 non-null     object\n",
      "dtypes: object(1)\n",
      "memory usage: 408.0+ bytes\n"
     ]
    }
   ],
   "source": [
    "uniqueAbbrv = teamPerformData.team_abbrv.unique()\n",
    "teamAbbrvDF = pd.DataFrame(uniqueAbbrv, columns=['teamAbbrv'])\n",
    "teamAbbrvDF.to_csv('output/teamabbrv.csv', encoding='utf-8', index=False)\n",
    "teamAbbrvDF.info()"
   ]
  },
  {
   "cell_type": "markdown",
   "metadata": {},
   "source": [
    "# Connecting to local Database\n",
    "---\n",
    "- After creating DataFrames for Unique Team and Season data:\n",
    " - We converted DataFrames to CSV FILES and imported into our TableSchemas in our Local PostgreSQL DB\n",
    " - Now Connecting to local DB to load other CSV converted DataFrames into our DataBase  \n"
   ]
  },
  {
   "cell_type": "code",
   "execution_count": 14,
   "metadata": {},
   "outputs": [],
   "source": [
    "protocol = 'postgresql'\n",
    "username = 'postgres'\n",
    "password = psqlpass\n",
    "host = 'localhost'\n",
    "port = 5432\n",
    "database_name = 'baseball_db'\n",
    "rds_connection_string = f'{protocol}://{username}:{password}@{host}:{port}/{database_name}'\n",
    "engine = create_engine(rds_connection_string)"
   ]
  },
  {
   "cell_type": "code",
   "execution_count": 15,
   "metadata": {},
   "outputs": [
    {
     "name": "stderr",
     "output_type": "stream",
     "text": [
      "C:\\Users\\marko\\AppData\\Local\\Temp\\ipykernel_20952\\4162273999.py:1: SADeprecationWarning: The Engine.table_names() method is deprecated and will be removed in a future release.  Please refer to Inspector.get_table_names(). (deprecated since: 1.4)\n",
      "  engine.table_names()\n"
     ]
    },
    {
     "data": {
      "text/plain": [
       "['season', 'teamabbrv', 'franchise', 'seasonattendance', 'team']"
      ]
     },
     "execution_count": 15,
     "metadata": {},
     "output_type": "execute_result"
    }
   ],
   "source": [
    "engine.table_names()"
   ]
  },
  {
   "cell_type": "code",
   "execution_count": 16,
   "metadata": {},
   "outputs": [
    {
     "data": {
      "text/html": [
       "<div>\n",
       "<style scoped>\n",
       "    .dataframe tbody tr th:only-of-type {\n",
       "        vertical-align: middle;\n",
       "    }\n",
       "\n",
       "    .dataframe tbody tr th {\n",
       "        vertical-align: top;\n",
       "    }\n",
       "\n",
       "    .dataframe thead th {\n",
       "        text-align: right;\n",
       "    }\n",
       "</style>\n",
       "<table border=\"1\" class=\"dataframe\">\n",
       "  <thead>\n",
       "    <tr style=\"text-align: right;\">\n",
       "      <th></th>\n",
       "      <th>team_name</th>\n",
       "      <th>batters_avg_age</th>\n",
       "      <th>pitchers_avg_age</th>\n",
       "      <th>Batting_Park_Factor</th>\n",
       "      <th>Pitching_Park_Factor</th>\n",
       "      <th>HoF</th>\n",
       "      <th>AllStars</th>\n",
       "      <th>AllTimeASapp</th>\n",
       "      <th>Est_Payroll</th>\n",
       "      <th>AvgGameStartTime</th>\n",
       "      <th>yearID</th>\n",
       "    </tr>\n",
       "  </thead>\n",
       "  <tbody>\n",
       "    <tr>\n",
       "      <th>0</th>\n",
       "      <td>Atlanta Braves</td>\n",
       "      <td>27.4</td>\n",
       "      <td>25.8</td>\n",
       "      <td>105</td>\n",
       "      <td>106</td>\n",
       "      <td>2</td>\n",
       "      <td>1</td>\n",
       "      <td>13</td>\n",
       "      <td>$15,065,501</td>\n",
       "      <td>2:48</td>\n",
       "      <td>1990</td>\n",
       "    </tr>\n",
       "    <tr>\n",
       "      <th>1</th>\n",
       "      <td>Baltimore Orioles</td>\n",
       "      <td>27.4</td>\n",
       "      <td>26.2</td>\n",
       "      <td>97</td>\n",
       "      <td>97</td>\n",
       "      <td>1</td>\n",
       "      <td>2</td>\n",
       "      <td>10</td>\n",
       "      <td>$10,100,084</td>\n",
       "      <td>3:03</td>\n",
       "      <td>1990</td>\n",
       "    </tr>\n",
       "    <tr>\n",
       "      <th>2</th>\n",
       "      <td>Boston Red Sox</td>\n",
       "      <td>28.9</td>\n",
       "      <td>30.6</td>\n",
       "      <td>104</td>\n",
       "      <td>104</td>\n",
       "      <td>2</td>\n",
       "      <td>3</td>\n",
       "      <td>13</td>\n",
       "      <td>$20,858,333</td>\n",
       "      <td>2:58</td>\n",
       "      <td>1990</td>\n",
       "    </tr>\n",
       "    <tr>\n",
       "      <th>3</th>\n",
       "      <td>California Angels</td>\n",
       "      <td>29.9</td>\n",
       "      <td>28.1</td>\n",
       "      <td>97</td>\n",
       "      <td>97</td>\n",
       "      <td>2</td>\n",
       "      <td>2</td>\n",
       "      <td>17</td>\n",
       "      <td>$22,417,500</td>\n",
       "      <td>2:58</td>\n",
       "      <td>1990</td>\n",
       "    </tr>\n",
       "    <tr>\n",
       "      <th>4</th>\n",
       "      <td>Chicago Cubs</td>\n",
       "      <td>28.2</td>\n",
       "      <td>26.1</td>\n",
       "      <td>108</td>\n",
       "      <td>108</td>\n",
       "      <td>3</td>\n",
       "      <td>3</td>\n",
       "      <td>8</td>\n",
       "      <td>$14,599,000</td>\n",
       "      <td>2:44</td>\n",
       "      <td>1990</td>\n",
       "    </tr>\n",
       "  </tbody>\n",
       "</table>\n",
       "</div>"
      ],
      "text/plain": [
       "           team_name  batters_avg_age  pitchers_avg_age  Batting_Park_Factor  \\\n",
       "0     Atlanta Braves             27.4              25.8                  105   \n",
       "1  Baltimore Orioles             27.4              26.2                   97   \n",
       "2     Boston Red Sox             28.9              30.6                  104   \n",
       "3  California Angels             29.9              28.1                   97   \n",
       "4       Chicago Cubs             28.2              26.1                  108   \n",
       "\n",
       "   Pitching_Park_Factor  HoF  AllStars  AllTimeASapp  Est_Payroll  \\\n",
       "0                   106    2         1            13  $15,065,501   \n",
       "1                    97    1         2            10  $10,100,084   \n",
       "2                   104    2         3            13  $20,858,333   \n",
       "3                    97    2         2            17  $22,417,500   \n",
       "4                   108    3         3             8  $14,599,000   \n",
       "\n",
       "  AvgGameStartTime  yearID  \n",
       "0             2:48    1990  \n",
       "1             3:03    1990  \n",
       "2             2:58    1990  \n",
       "3             2:58    1990  \n",
       "4             2:44    1990  "
      ]
     },
     "execution_count": 16,
     "metadata": {},
     "output_type": "execute_result"
    }
   ],
   "source": [
    "teamDat = pd.read_csv('output/teamdata.csv')\n",
    "teamDat.head()"
   ]
  },
  {
   "cell_type": "code",
   "execution_count": 19,
   "metadata": {},
   "outputs": [],
   "source": [
    "teamDat.rename(columns={'team_name': 'team', 'yearID': 'season'}, inplace=True)\n",
    "teamDat['season'] = teamDat['season'].astype('string')"
   ]
  },
  {
   "cell_type": "code",
   "execution_count": 20,
   "metadata": {},
   "outputs": [
    {
     "data": {
      "text/html": [
       "<div>\n",
       "<style scoped>\n",
       "    .dataframe tbody tr th:only-of-type {\n",
       "        vertical-align: middle;\n",
       "    }\n",
       "\n",
       "    .dataframe tbody tr th {\n",
       "        vertical-align: top;\n",
       "    }\n",
       "\n",
       "    .dataframe thead th {\n",
       "        text-align: right;\n",
       "    }\n",
       "</style>\n",
       "<table border=\"1\" class=\"dataframe\">\n",
       "  <thead>\n",
       "    <tr style=\"text-align: right;\">\n",
       "      <th></th>\n",
       "      <th>season</th>\n",
       "      <th>team</th>\n",
       "      <th>Est_Payroll</th>\n",
       "    </tr>\n",
       "  </thead>\n",
       "  <tbody>\n",
       "    <tr>\n",
       "      <th>0</th>\n",
       "      <td>1990</td>\n",
       "      <td>Atlanta Braves</td>\n",
       "      <td>$15,065,501</td>\n",
       "    </tr>\n",
       "    <tr>\n",
       "      <th>1</th>\n",
       "      <td>1990</td>\n",
       "      <td>Baltimore Orioles</td>\n",
       "      <td>$10,100,084</td>\n",
       "    </tr>\n",
       "    <tr>\n",
       "      <th>2</th>\n",
       "      <td>1990</td>\n",
       "      <td>Boston Red Sox</td>\n",
       "      <td>$20,858,333</td>\n",
       "    </tr>\n",
       "    <tr>\n",
       "      <th>3</th>\n",
       "      <td>1990</td>\n",
       "      <td>California Angels</td>\n",
       "      <td>$22,417,500</td>\n",
       "    </tr>\n",
       "    <tr>\n",
       "      <th>4</th>\n",
       "      <td>1990</td>\n",
       "      <td>Chicago Cubs</td>\n",
       "      <td>$14,599,000</td>\n",
       "    </tr>\n",
       "    <tr>\n",
       "      <th>...</th>\n",
       "      <td>...</td>\n",
       "      <td>...</td>\n",
       "      <td>...</td>\n",
       "    </tr>\n",
       "    <tr>\n",
       "      <th>903</th>\n",
       "      <td>2021</td>\n",
       "      <td>St. Louis Cardinals</td>\n",
       "      <td>$155,329,667</td>\n",
       "    </tr>\n",
       "    <tr>\n",
       "      <th>904</th>\n",
       "      <td>2021</td>\n",
       "      <td>Tampa Bay Rays</td>\n",
       "      <td>$64,037,166</td>\n",
       "    </tr>\n",
       "    <tr>\n",
       "      <th>905</th>\n",
       "      <td>2021</td>\n",
       "      <td>Texas Rangers</td>\n",
       "      <td>$67,890,999</td>\n",
       "    </tr>\n",
       "    <tr>\n",
       "      <th>906</th>\n",
       "      <td>2021</td>\n",
       "      <td>Toronto Blue Jays</td>\n",
       "      <td>$121,694,071</td>\n",
       "    </tr>\n",
       "    <tr>\n",
       "      <th>907</th>\n",
       "      <td>2021</td>\n",
       "      <td>Washington Nationals</td>\n",
       "      <td>$172,370,147</td>\n",
       "    </tr>\n",
       "  </tbody>\n",
       "</table>\n",
       "<p>908 rows × 3 columns</p>\n",
       "</div>"
      ],
      "text/plain": [
       "    season                  team   Est_Payroll\n",
       "0     1990        Atlanta Braves   $15,065,501\n",
       "1     1990     Baltimore Orioles   $10,100,084\n",
       "2     1990        Boston Red Sox   $20,858,333\n",
       "3     1990     California Angels   $22,417,500\n",
       "4     1990          Chicago Cubs   $14,599,000\n",
       "..     ...                   ...           ...\n",
       "903   2021   St. Louis Cardinals  $155,329,667\n",
       "904   2021        Tampa Bay Rays   $64,037,166\n",
       "905   2021         Texas Rangers   $67,890,999\n",
       "906   2021     Toronto Blue Jays  $121,694,071\n",
       "907   2021  Washington Nationals  $172,370,147\n",
       "\n",
       "[908 rows x 3 columns]"
      ]
     },
     "execution_count": 20,
     "metadata": {},
     "output_type": "execute_result"
    }
   ],
   "source": [
    "team_payroll = teamDat[['season', 'team', 'Est_Payroll']].copy()\n",
    "team_payroll"
   ]
  },
  {
   "cell_type": "code",
   "execution_count": 21,
   "metadata": {},
   "outputs": [],
   "source": [
    "team_payroll.to_csv('output/team_payroll.csv', encoding='utf-8', index=True)"
   ]
  },
  {
   "cell_type": "code",
   "execution_count": 22,
   "metadata": {},
   "outputs": [
    {
     "data": {
      "text/plain": [
       "908"
      ]
     },
     "execution_count": 22,
     "metadata": {},
     "output_type": "execute_result"
    }
   ],
   "source": [
    "team_payroll.to_sql(name='team_payroll', con=engine, if_exists='append', index=False)"
   ]
  },
  {
   "cell_type": "code",
   "execution_count": null,
   "metadata": {},
   "outputs": [],
   "source": []
  }
 ],
 "metadata": {
  "kernelspec": {
   "display_name": "py39",
   "language": "python",
   "name": "py39"
  },
  "language_info": {
   "codemirror_mode": {
    "name": "ipython",
    "version": 3
   },
   "file_extension": ".py",
   "mimetype": "text/x-python",
   "name": "python",
   "nbconvert_exporter": "python",
   "pygments_lexer": "ipython3",
   "version": "3.9.12"
  },
  "orig_nbformat": 4,
  "vscode": {
   "interpreter": {
    "hash": "b0d27741a4b00b54791b12c84416e05a35ca30876917b42249f619f98992cfcf"
   }
  }
 },
 "nbformat": 4,
 "nbformat_minor": 2
}
