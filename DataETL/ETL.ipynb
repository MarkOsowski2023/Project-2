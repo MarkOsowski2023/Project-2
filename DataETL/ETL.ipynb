{
 "cells": [
  {
   "cell_type": "markdown",
   "metadata": {},
   "source": [
    "# Data ETL\n",
    "*******************************\n",
    "- transform and load Dataframes from 2 csv_files to tables in postgreSQL"
   ]
  },
  {
   "cell_type": "code",
   "execution_count": 1,
   "metadata": {},
   "outputs": [],
   "source": [
    "# Depends\n",
    "import pandas as pd\n",
    "import numpy as np\n",
    "from sqlalchemy import create_engine"
   ]
  },
  {
   "cell_type": "code",
   "execution_count": 2,
   "metadata": {},
   "outputs": [],
   "source": [
    "# pandas read csv\n",
    "teamPerformData = pd.read_csv('../Resources/DataEtl/seasonAttendanceData.csv')\n",
    "orgData = pd.read_csv('../Resources/scrape_collect/seasonPayrollData.csv')"
   ]
  },
  {
   "cell_type": "code",
   "execution_count": 3,
   "metadata": {},
   "outputs": [
    {
     "data": {
      "text/html": [
       "<div>\n",
       "<style scoped>\n",
       "    .dataframe tbody tr th:only-of-type {\n",
       "        vertical-align: middle;\n",
       "    }\n",
       "\n",
       "    .dataframe tbody tr th {\n",
       "        vertical-align: top;\n",
       "    }\n",
       "\n",
       "    .dataframe thead th {\n",
       "        text-align: right;\n",
       "    }\n",
       "</style>\n",
       "<table border=\"1\" class=\"dataframe\">\n",
       "  <thead>\n",
       "    <tr style=\"text-align: right;\">\n",
       "      <th></th>\n",
       "      <th>teamID</th>\n",
       "      <th>franchID</th>\n",
       "      <th>name</th>\n",
       "      <th>G</th>\n",
       "      <th>Ghome</th>\n",
       "      <th>yearID</th>\n",
       "      <th>Rank</th>\n",
       "      <th>W</th>\n",
       "      <th>L</th>\n",
       "      <th>park</th>\n",
       "      <th>attendance</th>\n",
       "      <th>HR</th>\n",
       "      <th>R</th>\n",
       "      <th>DivWin</th>\n",
       "      <th>WCWin</th>\n",
       "      <th>LgWin</th>\n",
       "      <th>WSWin</th>\n",
       "      <th>att_per_game</th>\n",
       "    </tr>\n",
       "  </thead>\n",
       "  <tbody>\n",
       "    <tr>\n",
       "      <th>0</th>\n",
       "      <td>ATL</td>\n",
       "      <td>ATL</td>\n",
       "      <td>Atlanta Braves</td>\n",
       "      <td>162</td>\n",
       "      <td>81</td>\n",
       "      <td>1990</td>\n",
       "      <td>6</td>\n",
       "      <td>65</td>\n",
       "      <td>97</td>\n",
       "      <td>Atlanta-Fulton County Stadium</td>\n",
       "      <td>980129</td>\n",
       "      <td>162</td>\n",
       "      <td>682</td>\n",
       "      <td>N</td>\n",
       "      <td>0</td>\n",
       "      <td>N</td>\n",
       "      <td>N</td>\n",
       "      <td>12100.358025</td>\n",
       "    </tr>\n",
       "    <tr>\n",
       "      <th>1</th>\n",
       "      <td>BAL</td>\n",
       "      <td>BAL</td>\n",
       "      <td>Baltimore Orioles</td>\n",
       "      <td>161</td>\n",
       "      <td>80</td>\n",
       "      <td>1990</td>\n",
       "      <td>5</td>\n",
       "      <td>76</td>\n",
       "      <td>85</td>\n",
       "      <td>Memorial Stadium</td>\n",
       "      <td>2415189</td>\n",
       "      <td>132</td>\n",
       "      <td>669</td>\n",
       "      <td>N</td>\n",
       "      <td>0</td>\n",
       "      <td>N</td>\n",
       "      <td>N</td>\n",
       "      <td>30189.862500</td>\n",
       "    </tr>\n",
       "    <tr>\n",
       "      <th>2</th>\n",
       "      <td>BOS</td>\n",
       "      <td>BOS</td>\n",
       "      <td>Boston Red Sox</td>\n",
       "      <td>162</td>\n",
       "      <td>81</td>\n",
       "      <td>1990</td>\n",
       "      <td>1</td>\n",
       "      <td>88</td>\n",
       "      <td>74</td>\n",
       "      <td>Fenway Park II</td>\n",
       "      <td>2528986</td>\n",
       "      <td>106</td>\n",
       "      <td>699</td>\n",
       "      <td>Y</td>\n",
       "      <td>0</td>\n",
       "      <td>N</td>\n",
       "      <td>N</td>\n",
       "      <td>31222.049383</td>\n",
       "    </tr>\n",
       "    <tr>\n",
       "      <th>3</th>\n",
       "      <td>CAL</td>\n",
       "      <td>ANA</td>\n",
       "      <td>California Angels</td>\n",
       "      <td>162</td>\n",
       "      <td>81</td>\n",
       "      <td>1990</td>\n",
       "      <td>4</td>\n",
       "      <td>80</td>\n",
       "      <td>82</td>\n",
       "      <td>Anaheim Stadium</td>\n",
       "      <td>2555688</td>\n",
       "      <td>147</td>\n",
       "      <td>690</td>\n",
       "      <td>N</td>\n",
       "      <td>0</td>\n",
       "      <td>N</td>\n",
       "      <td>N</td>\n",
       "      <td>31551.703704</td>\n",
       "    </tr>\n",
       "    <tr>\n",
       "      <th>4</th>\n",
       "      <td>CHA</td>\n",
       "      <td>CHW</td>\n",
       "      <td>Chicago White Sox</td>\n",
       "      <td>162</td>\n",
       "      <td>80</td>\n",
       "      <td>1990</td>\n",
       "      <td>2</td>\n",
       "      <td>94</td>\n",
       "      <td>68</td>\n",
       "      <td>Comiskey Park</td>\n",
       "      <td>2002357</td>\n",
       "      <td>106</td>\n",
       "      <td>682</td>\n",
       "      <td>N</td>\n",
       "      <td>0</td>\n",
       "      <td>N</td>\n",
       "      <td>N</td>\n",
       "      <td>25029.462500</td>\n",
       "    </tr>\n",
       "  </tbody>\n",
       "</table>\n",
       "</div>"
      ],
      "text/plain": [
       "  teamID franchID               name    G  Ghome  yearID  Rank   W   L  \\\n",
       "0    ATL      ATL     Atlanta Braves  162     81    1990     6  65  97   \n",
       "1    BAL      BAL  Baltimore Orioles  161     80    1990     5  76  85   \n",
       "2    BOS      BOS     Boston Red Sox  162     81    1990     1  88  74   \n",
       "3    CAL      ANA  California Angels  162     81    1990     4  80  82   \n",
       "4    CHA      CHW  Chicago White Sox  162     80    1990     2  94  68   \n",
       "\n",
       "                            park  attendance   HR    R DivWin WCWin LgWin  \\\n",
       "0  Atlanta-Fulton County Stadium      980129  162  682      N     0     N   \n",
       "1               Memorial Stadium     2415189  132  669      N     0     N   \n",
       "2                 Fenway Park II     2528986  106  699      Y     0     N   \n",
       "3                Anaheim Stadium     2555688  147  690      N     0     N   \n",
       "4                  Comiskey Park     2002357  106  682      N     0     N   \n",
       "\n",
       "  WSWin  att_per_game  \n",
       "0     N  12100.358025  \n",
       "1     N  30189.862500  \n",
       "2     N  31222.049383  \n",
       "3     N  31551.703704  \n",
       "4     N  25029.462500  "
      ]
     },
     "execution_count": 3,
     "metadata": {},
     "output_type": "execute_result"
    }
   ],
   "source": [
    "# column transformation\n",
    "teamPerformData.head()"
   ]
  },
  {
   "cell_type": "code",
   "execution_count": 4,
   "metadata": {},
   "outputs": [
    {
     "name": "stdout",
     "output_type": "stream",
     "text": [
      "Index(['teamID', 'franchID', 'name', 'G', 'Ghome', 'yearID', 'Rank', 'W', 'L',\n",
      "       'park', 'attendance', 'HR', 'R', 'DivWin', 'WCWin', 'LgWin', 'WSWin',\n",
      "       'att_per_game'],\n",
      "      dtype='object')\n"
     ]
    }
   ],
   "source": [
    "# change column names\n",
    "print(teamPerformData.columns)"
   ]
  },
  {
   "cell_type": "code",
   "execution_count": 5,
   "metadata": {},
   "outputs": [
    {
     "data": {
      "text/plain": [
       "Index(['team_abbrv', 'franchise_abbrv', 'team_name', 'games_played',\n",
       "       'home_games_played', 'season', 'season_rank', 'wins', 'losses',\n",
       "       'home_park', 'attendance', 'home_runs', 'runs_scored',\n",
       "       'division_winner', 'wild_card_winner', 'league_winner',\n",
       "       'world_series_winner', 'att_per_game'],\n",
       "      dtype='object')"
      ]
     },
     "execution_count": 5,
     "metadata": {},
     "output_type": "execute_result"
    }
   ],
   "source": [
    "teamPerformData.rename(columns={\n",
    "    'yearID': 'season',\n",
    "    'teamID': 'team_abbrv',\n",
    "    'franchID': 'franchise_abbrv',\n",
    "    'name': 'team_name',\n",
    "    'G': 'games_played',\n",
    "    'Ghome': 'home_games_played',\n",
    "    'Rank': 'season_rank',\n",
    "    'W': 'wins',\n",
    "    'L': 'losses',\n",
    "    'park': 'home_park',\n",
    "    'HR': 'home_runs',\n",
    "    'R': 'runs_scored',\n",
    "    'DivWin': 'division_winner',\n",
    "    'WCWin': 'wild_card_winner',\n",
    "    'LgWin': 'league_winner',\n",
    "    'WSWin': 'world_series_winner',\n",
    "}, inplace=True)\n",
    "\n",
    "teamPerformData.columns"
   ]
  },
  {
   "cell_type": "code",
   "execution_count": 6,
   "metadata": {},
   "outputs": [
    {
     "name": "stdout",
     "output_type": "stream",
     "text": [
      "-------------------------------------------------------------------------------------------\n",
      "Unique Seasons: [1990 1991 1992 1993 1994 1995 1996 1997 1998 1999 2000 2001 2002 2003\n",
      " 2004 2005 2006 2007 2008 2009 2010 2011 2012 2013 2014 2015 2016 2017\n",
      " 2018 2019 2021]\n",
      "-------------------------------------------------------------------------------------------\n",
      "Unique team names: ['Atlanta Braves' 'Baltimore Orioles' 'Boston Red Sox' 'California Angels'\n",
      " 'Chicago White Sox' 'Chicago Cubs' 'Cincinnati Reds' 'Cleveland Indians'\n",
      " 'Detroit Tigers' 'Houston Astros' 'Kansas City Royals'\n",
      " 'Los Angeles Dodgers' 'Minnesota Twins' 'Milwaukee Brewers'\n",
      " 'Montreal Expos' 'New York Yankees' 'New York Mets' 'Oakland Athletics'\n",
      " 'Philadelphia Phillies' 'Pittsburgh Pirates' 'San Diego Padres'\n",
      " 'Seattle Mariners' 'San Francisco Giants' 'St. Louis Cardinals'\n",
      " 'Texas Rangers' 'Toronto Blue Jays' 'Colorado Rockies' 'Florida Marlins'\n",
      " 'Anaheim Angels' 'Arizona Diamondbacks' 'Tampa Bay Devil Rays'\n",
      " 'Los Angeles Angels of Anaheim' 'Washington Nationals' 'Tampa Bay Rays'\n",
      " 'Miami Marlins']\n",
      "-------------------------------------------------------------------------------------------\n",
      "Unique team abbrvs: ['ATL' 'BAL' 'BOS' 'CAL' 'CHA' 'CHN' 'CIN' 'CLE' 'DET' 'HOU' 'KCA' 'LAN'\n",
      " 'MIN' 'ML4' 'MON' 'NYA' 'NYN' 'OAK' 'PHI' 'PIT' 'SDN' 'SEA' 'SFN' 'SLN'\n",
      " 'TEX' 'TOR' 'COL' 'FLO' 'ANA' 'ARI' 'MIL' 'TBA' 'LAA' 'WAS' 'MIA']\n",
      "-------------------------------------------------------------------------------------------\n",
      "Unique franchise abbrvs: ['ATL' 'BAL' 'BOS' 'ANA' 'CHW' 'CHC' 'CIN' 'CLE' 'DET' 'HOU' 'KCR' 'LAD'\n",
      " 'MIN' 'MIL' 'WSN' 'NYY' 'NYM' 'OAK' 'PHI' 'PIT' 'SDP' 'SEA' 'SFG' 'STL'\n",
      " 'TEX' 'TOR' 'COL' 'FLA' 'ARI' 'TBD']\n",
      "-------------------------------------------------------------------------------------------\n"
     ]
    }
   ],
   "source": [
    "# Checking UNIQUE VALUES FOR team name, team abbrv, season, franchise Abbrv\n",
    "print('-------------------------------------------------------------------------------------------')\n",
    "print(f'Unique Seasons: {(teamPerformData.season.unique())}')\n",
    "print('-------------------------------------------------------------------------------------------')\n",
    "print(f'Unique team names: {(teamPerformData.team_name.unique())}')\n",
    "print('-------------------------------------------------------------------------------------------')\n",
    "print(f'Unique team abbrvs: {(teamPerformData.team_abbrv.unique())}')\n",
    "print('-------------------------------------------------------------------------------------------')\n",
    "print(f'Unique franchise abbrvs: {(teamPerformData.franchise_abbrv.unique())}')\n",
    "print('-------------------------------------------------------------------------------------------')\n"
   ]
  },
  {
   "cell_type": "code",
   "execution_count": 7,
   "metadata": {},
   "outputs": [],
   "source": [
    "uniqueSeasons = teamPerformData.season.unique()\n",
    "seasonsdf = pd.DataFrame(uniqueSeasons, columns=['season'])\n",
    "seasonsdf['season'] = seasonsdf['season'].astype('string')\n",
    "# to csv\n",
    "seasonsdf.to_csv('output/seasons.csv', encoding='utf-8', index=False)"
   ]
  },
  {
   "cell_type": "code",
   "execution_count": 8,
   "metadata": {},
   "outputs": [
    {
     "name": "stdout",
     "output_type": "stream",
     "text": [
      "<class 'pandas.core.frame.DataFrame'>\n",
      "RangeIndex: 31 entries, 0 to 30\n",
      "Data columns (total 1 columns):\n",
      " #   Column  Non-Null Count  Dtype \n",
      "---  ------  --------------  ----- \n",
      " 0   season  31 non-null     string\n",
      "dtypes: string(1)\n",
      "memory usage: 376.0 bytes\n"
     ]
    }
   ],
   "source": [
    "seasonsdf.info()"
   ]
  },
  {
   "cell_type": "code",
   "execution_count": 9,
   "metadata": {},
   "outputs": [],
   "source": [
    "uniqueTeams = teamPerformData.team_name.unique()\n",
    "teamDf = pd.DataFrame(uniqueTeams, columns=['team'])\n",
    "# to csv\n",
    "teamDf.to_csv('output/teams.csv', encoding='utf-8', index=False)"
   ]
  },
  {
   "cell_type": "code",
   "execution_count": 11,
   "metadata": {},
   "outputs": [
    {
     "name": "stdout",
     "output_type": "stream",
     "text": [
      "<class 'pandas.core.frame.DataFrame'>\n",
      "RangeIndex: 35 entries, 0 to 34\n",
      "Data columns (total 1 columns):\n",
      " #   Column  Non-Null Count  Dtype \n",
      "---  ------  --------------  ----- \n",
      " 0   team    35 non-null     object\n",
      "dtypes: object(1)\n",
      "memory usage: 408.0+ bytes\n"
     ]
    }
   ],
   "source": [
    "teamDf.info()"
   ]
  },
  {
   "cell_type": "code",
   "execution_count": 12,
   "metadata": {},
   "outputs": [
    {
     "name": "stdout",
     "output_type": "stream",
     "text": [
      "<class 'pandas.core.frame.DataFrame'>\n",
      "RangeIndex: 30 entries, 0 to 29\n",
      "Data columns (total 1 columns):\n",
      " #   Column     Non-Null Count  Dtype \n",
      "---  ------     --------------  ----- \n",
      " 0   franchise  30 non-null     object\n",
      "dtypes: object(1)\n",
      "memory usage: 368.0+ bytes\n"
     ]
    }
   ],
   "source": [
    "uniqueFranchise = teamPerformData.franchise_abbrv.unique()\n",
    "franchiseDF = pd.DataFrame(uniqueFranchise, columns=['franchise'])\n",
    "franchiseDF.info()"
   ]
  },
  {
   "cell_type": "code",
   "execution_count": 13,
   "metadata": {},
   "outputs": [],
   "source": [
    "franchiseDF.to_csv('output/franchise.csv', encoding='utf-8', index=False)"
   ]
  },
  {
   "cell_type": "code",
   "execution_count": 14,
   "metadata": {},
   "outputs": [
    {
     "name": "stdout",
     "output_type": "stream",
     "text": [
      "<class 'pandas.core.frame.DataFrame'>\n",
      "RangeIndex: 35 entries, 0 to 34\n",
      "Data columns (total 1 columns):\n",
      " #   Column     Non-Null Count  Dtype \n",
      "---  ------     --------------  ----- \n",
      " 0   teamAbbrv  35 non-null     object\n",
      "dtypes: object(1)\n",
      "memory usage: 408.0+ bytes\n"
     ]
    }
   ],
   "source": [
    "uniqueAbbrv = teamPerformData.team_abbrv.unique()\n",
    "teamAbbrvDF = pd.DataFrame(uniqueAbbrv, columns=['teamAbbrv'])\n",
    "teamAbbrvDF.to_csv('output/teamabbrv.csv', encoding='utf-8', index=False)\n",
    "teamAbbrvDF.info()"
   ]
  },
  {
   "cell_type": "markdown",
   "metadata": {},
   "source": [
    "*****************************************"
   ]
  },
  {
   "cell_type": "code",
   "execution_count": null,
   "metadata": {},
   "outputs": [],
   "source": [
    "teamPerformData.isnull().values.any()"
   ]
  },
  {
   "cell_type": "code",
   "execution_count": null,
   "metadata": {},
   "outputs": [],
   "source": [
    "orgData.head()"
   ]
  },
  {
   "cell_type": "code",
   "execution_count": null,
   "metadata": {},
   "outputs": [],
   "source": [
    "print(orgData.columns)"
   ]
  },
  {
   "cell_type": "code",
   "execution_count": null,
   "metadata": {},
   "outputs": [],
   "source": [
    "orgData.rename(columns={\n",
    "    'Team': 'team_name',\n",
    "    'seasonID': 'yearID',\n",
    "    'AvgGameTime': 'AvgGameStartTime',\n",
    "    'AllTimeASap': 'AllTimeASapp',\n",
    "    'BPF': 'Batting_Park_Factor',\n",
    "    'PPF': 'Pitching_Park_Factor',\n",
    "    'BatAge': 'batters_avg_age',\n",
    "    'PAge': 'pitchers_avg_age'\n",
    "},  inplace=True)\n",
    "\n",
    "print(orgData.columns)"
   ]
  },
  {
   "cell_type": "code",
   "execution_count": null,
   "metadata": {},
   "outputs": [],
   "source": [
    "orgData.rename(columns={'Est. Payroll': 'Est_Payroll'}, inplace=True)\n",
    "print(orgData.columns)"
   ]
  },
  {
   "cell_type": "code",
   "execution_count": null,
   "metadata": {},
   "outputs": [],
   "source": [
    "orgData.info()"
   ]
  },
  {
   "cell_type": "code",
   "execution_count": null,
   "metadata": {},
   "outputs": [],
   "source": [
    "# Checking UNIQUE yearID values for both DataFrams\n",
    "print(orgData['yearID']"
   ]
  },
  {
   "cell_type": "code",
   "execution_count": null,
   "metadata": {},
   "outputs": [],
   "source": [
    "# to csv\n",
    "orgData.to_csv('output/teamdata.csv', encoding='utf-8', index=False)\n",
    "teamPerformData.to_csv('output/seasonstats.csv', encoding='utf-8', index=False)"
   ]
  },
  {
   "cell_type": "code",
   "execution_count": null,
   "metadata": {},
   "outputs": [],
   "source": []
  }
 ],
 "metadata": {
  "kernelspec": {
   "display_name": "py39",
   "language": "python",
   "name": "py39"
  },
  "language_info": {
   "codemirror_mode": {
    "name": "ipython",
    "version": 3
   },
   "file_extension": ".py",
   "mimetype": "text/x-python",
   "name": "python",
   "nbconvert_exporter": "python",
   "pygments_lexer": "ipython3",
   "version": "3.9.12"
  },
  "orig_nbformat": 4,
  "vscode": {
   "interpreter": {
    "hash": "b0d27741a4b00b54791b12c84416e05a35ca30876917b42249f619f98992cfcf"
   }
  }
 },
 "nbformat": 4,
 "nbformat_minor": 2
}
