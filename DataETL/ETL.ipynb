{
 "cells": [
  {
   "cell_type": "markdown",
   "metadata": {},
   "source": [
    "# Data ETL\n",
    "*******************************\n",
    "- transform and load Dataframes from 2 csv_files to tables in postgreSQL"
   ]
  },
  {
   "cell_type": "code",
   "execution_count": 1,
   "metadata": {},
   "outputs": [],
   "source": [
    "# Depends\n",
    "import pandas as pd\n",
    "import numpy as np\n",
    "from sqlalchemy import create_engine"
   ]
  },
  {
   "cell_type": "code",
   "execution_count": 2,
   "metadata": {},
   "outputs": [],
   "source": [
    "# pandas read csv\n",
    "teamPerformData = pd.read_csv('../Resources/DataEtl/seasonAttendanceData.csv')\n",
    "orgData = pd.read_csv('../Resources/scrape_collect/seasonPayrollData.csv')"
   ]
  },
  {
   "cell_type": "code",
   "execution_count": 3,
   "metadata": {},
   "outputs": [
    {
     "data": {
      "text/html": [
       "<div>\n",
       "<style scoped>\n",
       "    .dataframe tbody tr th:only-of-type {\n",
       "        vertical-align: middle;\n",
       "    }\n",
       "\n",
       "    .dataframe tbody tr th {\n",
       "        vertical-align: top;\n",
       "    }\n",
       "\n",
       "    .dataframe thead th {\n",
       "        text-align: right;\n",
       "    }\n",
       "</style>\n",
       "<table border=\"1\" class=\"dataframe\">\n",
       "  <thead>\n",
       "    <tr style=\"text-align: right;\">\n",
       "      <th></th>\n",
       "      <th>teamID</th>\n",
       "      <th>franchID</th>\n",
       "      <th>name</th>\n",
       "      <th>G</th>\n",
       "      <th>Ghome</th>\n",
       "      <th>yearID</th>\n",
       "      <th>Rank</th>\n",
       "      <th>W</th>\n",
       "      <th>L</th>\n",
       "      <th>park</th>\n",
       "      <th>attendance</th>\n",
       "      <th>HR</th>\n",
       "      <th>R</th>\n",
       "      <th>DivWin</th>\n",
       "      <th>WCWin</th>\n",
       "      <th>LgWin</th>\n",
       "      <th>WSWin</th>\n",
       "      <th>att_per_game</th>\n",
       "    </tr>\n",
       "  </thead>\n",
       "  <tbody>\n",
       "    <tr>\n",
       "      <th>0</th>\n",
       "      <td>ATL</td>\n",
       "      <td>ATL</td>\n",
       "      <td>Atlanta Braves</td>\n",
       "      <td>162</td>\n",
       "      <td>81</td>\n",
       "      <td>1990</td>\n",
       "      <td>6</td>\n",
       "      <td>65</td>\n",
       "      <td>97</td>\n",
       "      <td>Atlanta-Fulton County Stadium</td>\n",
       "      <td>980129</td>\n",
       "      <td>162</td>\n",
       "      <td>682</td>\n",
       "      <td>N</td>\n",
       "      <td>0</td>\n",
       "      <td>N</td>\n",
       "      <td>N</td>\n",
       "      <td>12100.358025</td>\n",
       "    </tr>\n",
       "    <tr>\n",
       "      <th>1</th>\n",
       "      <td>BAL</td>\n",
       "      <td>BAL</td>\n",
       "      <td>Baltimore Orioles</td>\n",
       "      <td>161</td>\n",
       "      <td>80</td>\n",
       "      <td>1990</td>\n",
       "      <td>5</td>\n",
       "      <td>76</td>\n",
       "      <td>85</td>\n",
       "      <td>Memorial Stadium</td>\n",
       "      <td>2415189</td>\n",
       "      <td>132</td>\n",
       "      <td>669</td>\n",
       "      <td>N</td>\n",
       "      <td>0</td>\n",
       "      <td>N</td>\n",
       "      <td>N</td>\n",
       "      <td>30189.862500</td>\n",
       "    </tr>\n",
       "    <tr>\n",
       "      <th>2</th>\n",
       "      <td>BOS</td>\n",
       "      <td>BOS</td>\n",
       "      <td>Boston Red Sox</td>\n",
       "      <td>162</td>\n",
       "      <td>81</td>\n",
       "      <td>1990</td>\n",
       "      <td>1</td>\n",
       "      <td>88</td>\n",
       "      <td>74</td>\n",
       "      <td>Fenway Park II</td>\n",
       "      <td>2528986</td>\n",
       "      <td>106</td>\n",
       "      <td>699</td>\n",
       "      <td>Y</td>\n",
       "      <td>0</td>\n",
       "      <td>N</td>\n",
       "      <td>N</td>\n",
       "      <td>31222.049383</td>\n",
       "    </tr>\n",
       "    <tr>\n",
       "      <th>3</th>\n",
       "      <td>CAL</td>\n",
       "      <td>ANA</td>\n",
       "      <td>California Angels</td>\n",
       "      <td>162</td>\n",
       "      <td>81</td>\n",
       "      <td>1990</td>\n",
       "      <td>4</td>\n",
       "      <td>80</td>\n",
       "      <td>82</td>\n",
       "      <td>Anaheim Stadium</td>\n",
       "      <td>2555688</td>\n",
       "      <td>147</td>\n",
       "      <td>690</td>\n",
       "      <td>N</td>\n",
       "      <td>0</td>\n",
       "      <td>N</td>\n",
       "      <td>N</td>\n",
       "      <td>31551.703704</td>\n",
       "    </tr>\n",
       "    <tr>\n",
       "      <th>4</th>\n",
       "      <td>CHA</td>\n",
       "      <td>CHW</td>\n",
       "      <td>Chicago White Sox</td>\n",
       "      <td>162</td>\n",
       "      <td>80</td>\n",
       "      <td>1990</td>\n",
       "      <td>2</td>\n",
       "      <td>94</td>\n",
       "      <td>68</td>\n",
       "      <td>Comiskey Park</td>\n",
       "      <td>2002357</td>\n",
       "      <td>106</td>\n",
       "      <td>682</td>\n",
       "      <td>N</td>\n",
       "      <td>0</td>\n",
       "      <td>N</td>\n",
       "      <td>N</td>\n",
       "      <td>25029.462500</td>\n",
       "    </tr>\n",
       "  </tbody>\n",
       "</table>\n",
       "</div>"
      ],
      "text/plain": [
       "  teamID franchID               name    G  Ghome  yearID  Rank   W   L  \\\n",
       "0    ATL      ATL     Atlanta Braves  162     81    1990     6  65  97   \n",
       "1    BAL      BAL  Baltimore Orioles  161     80    1990     5  76  85   \n",
       "2    BOS      BOS     Boston Red Sox  162     81    1990     1  88  74   \n",
       "3    CAL      ANA  California Angels  162     81    1990     4  80  82   \n",
       "4    CHA      CHW  Chicago White Sox  162     80    1990     2  94  68   \n",
       "\n",
       "                            park  attendance   HR    R DivWin WCWin LgWin  \\\n",
       "0  Atlanta-Fulton County Stadium      980129  162  682      N     0     N   \n",
       "1               Memorial Stadium     2415189  132  669      N     0     N   \n",
       "2                 Fenway Park II     2528986  106  699      Y     0     N   \n",
       "3                Anaheim Stadium     2555688  147  690      N     0     N   \n",
       "4                  Comiskey Park     2002357  106  682      N     0     N   \n",
       "\n",
       "  WSWin  att_per_game  \n",
       "0     N  12100.358025  \n",
       "1     N  30189.862500  \n",
       "2     N  31222.049383  \n",
       "3     N  31551.703704  \n",
       "4     N  25029.462500  "
      ]
     },
     "execution_count": 3,
     "metadata": {},
     "output_type": "execute_result"
    }
   ],
   "source": [
    "# column transformation\n",
    "teamPerformData.head()"
   ]
  },
  {
   "cell_type": "code",
   "execution_count": 4,
   "metadata": {},
   "outputs": [
    {
     "name": "stdout",
     "output_type": "stream",
     "text": [
      "Index(['teamID', 'franchID', 'name', 'G', 'Ghome', 'yearID', 'Rank', 'W', 'L',\n",
      "       'park', 'attendance', 'HR', 'R', 'DivWin', 'WCWin', 'LgWin', 'WSWin',\n",
      "       'att_per_game'],\n",
      "      dtype='object')\n"
     ]
    }
   ],
   "source": [
    "# change column names\n",
    "print(teamPerformData.columns)"
   ]
  },
  {
   "cell_type": "code",
   "execution_count": 9,
   "metadata": {},
   "outputs": [
    {
     "data": {
      "text/plain": [
       "Index(['teamID', 'franchID', 'team_name', 'games_played', 'home_games_played',\n",
       "       'yearID', 'season_rank', 'wins', 'losses', 'home_park', 'attendance',\n",
       "       'home_runs', 'runs_scored', 'division_winner', 'wild_card_winner',\n",
       "       'league_winner', 'world_series_winner', 'att_per_game'],\n",
       "      dtype='object')"
      ]
     },
     "execution_count": 9,
     "metadata": {},
     "output_type": "execute_result"
    }
   ],
   "source": [
    "teamPerformData.rename(columns={\n",
    "    'name': 'team_name',\n",
    "    'G': 'games_played',\n",
    "    'Ghome': 'home_games_played',\n",
    "    'Rank': 'season_rank',\n",
    "    'W': 'wins',\n",
    "    'L': 'losses',\n",
    "    'park': 'home_park',\n",
    "    'HR': 'home_runs',\n",
    "    'R': 'runs_scored',\n",
    "    'DivWin': 'division_winner',\n",
    "    'WCWin': 'wild_card_winner',\n",
    "    'LgWin': 'league_winner',\n",
    "    'WSWin': 'world_series_winner',\n",
    "}, inplace=True)\n",
    "\n",
    "teamPerformData.columns"
   ]
  },
  {
   "cell_type": "code",
   "execution_count": 8,
   "metadata": {},
   "outputs": [
    {
     "data": {
      "text/plain": [
       "False"
      ]
     },
     "execution_count": 8,
     "metadata": {},
     "output_type": "execute_result"
    }
   ],
   "source": [
    "teamPerformData.isnull().values.any()"
   ]
  },
  {
   "cell_type": "code",
   "execution_count": 10,
   "metadata": {},
   "outputs": [
    {
     "data": {
      "text/html": [
       "<div>\n",
       "<style scoped>\n",
       "    .dataframe tbody tr th:only-of-type {\n",
       "        vertical-align: middle;\n",
       "    }\n",
       "\n",
       "    .dataframe tbody tr th {\n",
       "        vertical-align: top;\n",
       "    }\n",
       "\n",
       "    .dataframe thead th {\n",
       "        text-align: right;\n",
       "    }\n",
       "</style>\n",
       "<table border=\"1\" class=\"dataframe\">\n",
       "  <thead>\n",
       "    <tr style=\"text-align: right;\">\n",
       "      <th></th>\n",
       "      <th>Team</th>\n",
       "      <th>BatAge</th>\n",
       "      <th>PAge</th>\n",
       "      <th>BPF</th>\n",
       "      <th>PPF</th>\n",
       "      <th>HoF</th>\n",
       "      <th>AllStars</th>\n",
       "      <th>AllTimeASap</th>\n",
       "      <th>Est. Payroll</th>\n",
       "      <th>AvgGameTime</th>\n",
       "      <th>seasonID</th>\n",
       "    </tr>\n",
       "  </thead>\n",
       "  <tbody>\n",
       "    <tr>\n",
       "      <th>0</th>\n",
       "      <td>Atlanta Braves</td>\n",
       "      <td>27.4</td>\n",
       "      <td>25.8</td>\n",
       "      <td>105</td>\n",
       "      <td>106</td>\n",
       "      <td>2</td>\n",
       "      <td>1</td>\n",
       "      <td>13</td>\n",
       "      <td>$15,065,501</td>\n",
       "      <td>2:48</td>\n",
       "      <td>1990</td>\n",
       "    </tr>\n",
       "    <tr>\n",
       "      <th>1</th>\n",
       "      <td>Baltimore Orioles</td>\n",
       "      <td>27.4</td>\n",
       "      <td>26.2</td>\n",
       "      <td>97</td>\n",
       "      <td>97</td>\n",
       "      <td>1</td>\n",
       "      <td>2</td>\n",
       "      <td>10</td>\n",
       "      <td>$10,100,084</td>\n",
       "      <td>3:03</td>\n",
       "      <td>1990</td>\n",
       "    </tr>\n",
       "    <tr>\n",
       "      <th>2</th>\n",
       "      <td>Boston Red Sox</td>\n",
       "      <td>28.9</td>\n",
       "      <td>30.6</td>\n",
       "      <td>104</td>\n",
       "      <td>104</td>\n",
       "      <td>2</td>\n",
       "      <td>3</td>\n",
       "      <td>13</td>\n",
       "      <td>$20,858,333</td>\n",
       "      <td>2:58</td>\n",
       "      <td>1990</td>\n",
       "    </tr>\n",
       "    <tr>\n",
       "      <th>3</th>\n",
       "      <td>California Angels</td>\n",
       "      <td>29.9</td>\n",
       "      <td>28.1</td>\n",
       "      <td>97</td>\n",
       "      <td>97</td>\n",
       "      <td>2</td>\n",
       "      <td>2</td>\n",
       "      <td>17</td>\n",
       "      <td>$22,417,500</td>\n",
       "      <td>2:58</td>\n",
       "      <td>1990</td>\n",
       "    </tr>\n",
       "    <tr>\n",
       "      <th>4</th>\n",
       "      <td>Chicago Cubs</td>\n",
       "      <td>28.2</td>\n",
       "      <td>26.1</td>\n",
       "      <td>108</td>\n",
       "      <td>108</td>\n",
       "      <td>3</td>\n",
       "      <td>3</td>\n",
       "      <td>8</td>\n",
       "      <td>$14,599,000</td>\n",
       "      <td>2:44</td>\n",
       "      <td>1990</td>\n",
       "    </tr>\n",
       "  </tbody>\n",
       "</table>\n",
       "</div>"
      ],
      "text/plain": [
       "                Team  BatAge  PAge  BPF  PPF  HoF  AllStars  AllTimeASap  \\\n",
       "0     Atlanta Braves    27.4  25.8  105  106    2         1           13   \n",
       "1  Baltimore Orioles    27.4  26.2   97   97    1         2           10   \n",
       "2     Boston Red Sox    28.9  30.6  104  104    2         3           13   \n",
       "3  California Angels    29.9  28.1   97   97    2         2           17   \n",
       "4       Chicago Cubs    28.2  26.1  108  108    3         3            8   \n",
       "\n",
       "  Est. Payroll AvgGameTime  seasonID  \n",
       "0  $15,065,501        2:48      1990  \n",
       "1  $10,100,084        3:03      1990  \n",
       "2  $20,858,333        2:58      1990  \n",
       "3  $22,417,500        2:58      1990  \n",
       "4  $14,599,000        2:44      1990  "
      ]
     },
     "execution_count": 10,
     "metadata": {},
     "output_type": "execute_result"
    }
   ],
   "source": [
    "orgData.head()"
   ]
  },
  {
   "cell_type": "code",
   "execution_count": 11,
   "metadata": {},
   "outputs": [
    {
     "name": "stdout",
     "output_type": "stream",
     "text": [
      "Index(['Team', 'BatAge', 'PAge', 'BPF', 'PPF', 'HoF', 'AllStars',\n",
      "       'AllTimeASap', 'Est. Payroll', 'AvgGameTime', 'seasonID'],\n",
      "      dtype='object')\n"
     ]
    }
   ],
   "source": [
    "print(orgData.columns)"
   ]
  },
  {
   "cell_type": "code",
   "execution_count": 12,
   "metadata": {},
   "outputs": [
    {
     "name": "stdout",
     "output_type": "stream",
     "text": [
      "Index(['team_name', 'batters_avg_age', 'pitchers_avg_age',\n",
      "       'Batting_Park_Factor', 'Pitching_Park_Factor', 'HoF', 'AllStars',\n",
      "       'AllTimeASapp', 'Est. Payroll', 'AvgGameStartTime', 'yearID'],\n",
      "      dtype='object')\n"
     ]
    }
   ],
   "source": [
    "orgData.rename(columns={\n",
    "    'Team': 'team_name',\n",
    "    'seasonID': 'yearID',\n",
    "    'AvgGameTime': 'AvgGameStartTime',\n",
    "    'AllTimeASap': 'AllTimeASapp',\n",
    "    'BPF': 'Batting_Park_Factor',\n",
    "    'PPF': 'Pitching_Park_Factor',\n",
    "    'BatAge': 'batters_avg_age',\n",
    "    'PAge': 'pitchers_avg_age'\n",
    "},  inplace=True)\n",
    "\n",
    "print(orgData.columns)"
   ]
  },
  {
   "cell_type": "code",
   "execution_count": 13,
   "metadata": {},
   "outputs": [
    {
     "name": "stdout",
     "output_type": "stream",
     "text": [
      "Index(['team_name', 'batters_avg_age', 'pitchers_avg_age',\n",
      "       'Batting_Park_Factor', 'Pitching_Park_Factor', 'HoF', 'AllStars',\n",
      "       'AllTimeASapp', 'Est_Payroll', 'AvgGameStartTime', 'yearID'],\n",
      "      dtype='object')\n"
     ]
    }
   ],
   "source": [
    "orgData.rename(columns={'Est. Payroll': 'Est_Payroll'}, inplace=True)\n",
    "print(orgData.columns)"
   ]
  },
  {
   "cell_type": "code",
   "execution_count": 14,
   "metadata": {},
   "outputs": [
    {
     "name": "stdout",
     "output_type": "stream",
     "text": [
      "<class 'pandas.core.frame.DataFrame'>\n",
      "RangeIndex: 908 entries, 0 to 907\n",
      "Data columns (total 11 columns):\n",
      " #   Column                Non-Null Count  Dtype  \n",
      "---  ------                --------------  -----  \n",
      " 0   team_name             908 non-null    object \n",
      " 1   batters_avg_age       908 non-null    float64\n",
      " 2   pitchers_avg_age      908 non-null    float64\n",
      " 3   Batting_Park_Factor   908 non-null    int64  \n",
      " 4   Pitching_Park_Factor  908 non-null    int64  \n",
      " 5   HoF                   908 non-null    int64  \n",
      " 6   AllStars              908 non-null    int64  \n",
      " 7   AllTimeASapp          908 non-null    int64  \n",
      " 8   Est_Payroll           908 non-null    object \n",
      " 9   AvgGameStartTime      908 non-null    object \n",
      " 10  yearID                908 non-null    int64  \n",
      "dtypes: float64(2), int64(6), object(3)\n",
      "memory usage: 78.2+ KB\n"
     ]
    }
   ],
   "source": [
    "orgData.info()"
   ]
  },
  {
   "cell_type": "code",
   "execution_count": 15,
   "metadata": {},
   "outputs": [],
   "source": [
    "# to csv\n",
    "orgData.to_csv('output/teamdata.csv', encoding='utf-8', index=False)\n",
    "teamPerformData.to_csv('output/seasonstats.csv', encoding='utf-8', index=False)"
   ]
  },
  {
   "cell_type": "code",
   "execution_count": null,
   "metadata": {},
   "outputs": [],
   "source": []
  }
 ],
 "metadata": {
  "kernelspec": {
   "display_name": "py39",
   "language": "python",
   "name": "py39"
  },
  "language_info": {
   "codemirror_mode": {
    "name": "ipython",
    "version": 3
   },
   "file_extension": ".py",
   "mimetype": "text/x-python",
   "name": "python",
   "nbconvert_exporter": "python",
   "pygments_lexer": "ipython3",
   "version": "3.9.12"
  },
  "orig_nbformat": 4,
  "vscode": {
   "interpreter": {
    "hash": "b0d27741a4b00b54791b12c84416e05a35ca30876917b42249f619f98992cfcf"
   }
  }
 },
 "nbformat": 4,
 "nbformat_minor": 2
}
