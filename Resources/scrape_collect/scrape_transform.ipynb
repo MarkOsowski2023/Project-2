{
 "cells": [
  {
   "cell_type": "markdown",
   "metadata": {},
   "source": [
    "# Concatiing and Transforming scraped csv files"
   ]
  },
  {
   "cell_type": "code",
   "execution_count": null,
   "metadata": {},
   "outputs": [],
   "source": []
  }
 ],
 "metadata": {
  "kernelspec": {
   "display_name": "py39",
   "language": "python",
   "name": "py39"
  },
  "language_info": {
   "name": "python",
   "version": "3.9.12"
  },
  "orig_nbformat": 4,
  "vscode": {
   "interpreter": {
    "hash": "b0d27741a4b00b54791b12c84416e05a35ca30876917b42249f619f98992cfcf"
   }
  }
 },
 "nbformat": 4,
 "nbformat_minor": 2
}
